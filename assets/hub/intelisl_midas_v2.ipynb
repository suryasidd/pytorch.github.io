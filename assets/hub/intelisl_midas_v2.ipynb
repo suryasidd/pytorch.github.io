{
 "cells": [
  {
   "cell_type": "markdown",
   "id": "7425d964",
   "metadata": {},
   "source": [
    "### This notebook is optionally accelerated with a GPU runtime.\n",
    "### If you would like to use this acceleration, please select the menu option \"Runtime\" -> \"Change runtime type\", select \"Hardware Accelerator\" -> \"GPU\" and click \"SAVE\"\n",
    "\n",
    "----------------------------------------------------------------------\n",
    "\n",
    "# MiDaS\n",
    "\n",
    "*Author: Intel ISL*\n",
    "\n",
    "**MiDaS models for computing relative depth from a single image.**\n",
    "\n",
    "<img src=\"https://pytorch.org/assets/images/midas_samples.png\" alt=\"alt\" width=\"50%\"/>\n",
    "\n",
    "\n",
    "### Model Description\n",
    "\n",
    "[MiDaS](https://arxiv.org/abs/1907.01341) computes relative inverse depth from a single image. The repository provides multiple models that cover different use cases ranging from a small, high-speed model to a very large model that provide the highest accuracy. The models have been trained on 10 distinct datasets using\n",
    "multi-objective optimization to ensure high quality on a wide range of inputs.\n",
    "\n",
    "### Dependencies\n",
    "\n",
    "MiDaS depends on [timm](https://github.com/rwightman/pytorch-image-models). Install with"
   ]
  },
  {
   "cell_type": "code",
   "execution_count": null,
   "id": "82c805c7",
   "metadata": {
    "attributes": {
     "classes": [
      "shell"
     ],
     "id": ""
    }
   },
   "outputs": [],
   "source": [
    "pip install timm"
   ]
  },
  {
   "cell_type": "markdown",
   "id": "b27f2f0a",
   "metadata": {},
   "source": [
    "### Example Usage\n",
    "\n",
    "Download an image from the PyTorch homepage"
   ]
  },
  {
   "cell_type": "code",
   "execution_count": null,
   "id": "fb0e008d",
   "metadata": {},
   "outputs": [],
   "source": [
    "import cv2\n",
    "import torch\n",
    "import urllib.request\n",
    "\n",
    "import matplotlib.pyplot as plt\n",
    "\n",
    "url, filename = (\"https://github.com/pytorch/hub/raw/master/images/dog.jpg\", \"dog.jpg\")\n",
    "urllib.request.urlretrieve(url, filename)"
   ]
  },
  {
   "cell_type": "markdown",
   "id": "7d801ea7",
   "metadata": {},
   "source": [
    "Load a model (see [https://github.com/intel-isl/MiDaS/#Accuracy](https://github.com/intel-isl/MiDaS/#Accuracy) for an overview)"
   ]
  },
  {
   "cell_type": "code",
   "execution_count": null,
   "id": "5b58c224",
   "metadata": {},
   "outputs": [],
   "source": [
    "model_type = \"DPT_Large\"     # MiDaS v3 - Large     (highest accuracy, slowest inference speed)\n",
    "#model_type = \"DPT_Hybrid\"   # MiDaS v3 - Hybrid    (medium accuracy, medium inference speed)\n",
    "#model_type = \"MiDaS_small\"  # MiDaS v2.1 - Small   (lowest accuracy, highest inference speed)\n",
    "\n",
    "midas = torch.hub.load(\"intel-isl/MiDaS\", model_type)"
   ]
  },
  {
   "cell_type": "markdown",
   "id": "1b705d03",
   "metadata": {},
   "source": [
    "Move model to GPU if available"
   ]
  },
  {
   "cell_type": "code",
   "execution_count": null,
   "id": "237e36b8",
   "metadata": {},
   "outputs": [],
   "source": [
    "device = torch.device(\"cuda\") if torch.cuda.is_available() else torch.device(\"cpu\")\n",
    "midas.to(device)\n",
    "midas.eval()"
   ]
  },
  {
   "cell_type": "markdown",
   "id": "aae3fb0f",
   "metadata": {},
   "source": [
    "Load transforms to resize and normalize the image for large or small model"
   ]
  },
  {
   "cell_type": "code",
   "execution_count": null,
   "id": "3055415c",
   "metadata": {},
   "outputs": [],
   "source": [
    "midas_transforms = torch.hub.load(\"intel-isl/MiDaS\", \"transforms\")\n",
    "\n",
    "if model_type == \"DPT_Large\" or model_type == \"DPT_Hybrid\":\n",
    "    transform = midas_transforms.dpt_transform\n",
    "else:\n",
    "    transform = midas_transforms.small_transform"
   ]
  },
  {
   "cell_type": "markdown",
   "id": "3898e645",
   "metadata": {},
   "source": [
    "Load image and apply transforms"
   ]
  },
  {
   "cell_type": "code",
   "execution_count": null,
   "id": "e3f677ab",
   "metadata": {},
   "outputs": [],
   "source": [
    "img = cv2.imread(filename)\n",
    "img = cv2.cvtColor(img, cv2.COLOR_BGR2RGB)\n",
    "\n",
    "input_batch = transform(img).to(device)"
   ]
  },
  {
   "cell_type": "markdown",
   "id": "c93c6dc3",
   "metadata": {},
   "source": [
    "Predict and resize to original resolution"
   ]
  },
  {
   "cell_type": "code",
   "execution_count": null,
   "id": "24622c7d",
   "metadata": {},
   "outputs": [],
   "source": [
    "with torch.no_grad():\n",
    "    prediction = midas(input_batch)\n",
    "\n",
    "    prediction = torch.nn.functional.interpolate(\n",
    "        prediction.unsqueeze(1),\n",
    "        size=img.shape[:2],\n",
    "        mode=\"bicubic\",\n",
    "        align_corners=False,\n",
    "    ).squeeze()\n",
    "\n",
    "output = prediction.cpu().numpy()"
   ]
  },
  {
   "cell_type": "markdown",
   "id": "1364954a",
   "metadata": {},
   "source": [
    "Show result"
   ]
  },
  {
   "cell_type": "code",
   "execution_count": null,
   "id": "65657a29",
   "metadata": {},
   "outputs": [],
   "source": [
    "plt.imshow(output)\n",
    "# plt.show()"
   ]
  },
  {
   "cell_type": "markdown",
   "id": "e0113212",
   "metadata": {},
   "source": [
    "### References\n",
    "[Towards Robust Monocular Depth Estimation: Mixing Datasets for Zero-shot Cross-dataset Transfer](https://arxiv.org/abs/1907.01341)\n",
    "\n",
    "[Vision Transformers for Dense Prediction](https://arxiv.org/abs/2103.13413)\n",
    "\n",
    "Please cite our papers if you use our models:"
   ]
  },
  {
   "cell_type": "code",
   "execution_count": null,
   "id": "0a37eb93",
   "metadata": {
    "attributes": {
     "classes": [
      "bibtex"
     ],
     "id": ""
    }
   },
   "outputs": [],
   "source": [
    "@article{Ranftl2020,\n",
    "\tauthor    = {Ren\\'{e} Ranftl and Katrin Lasinger and David Hafner and Konrad Schindler and Vladlen Koltun},\n",
    "\ttitle     = {Towards Robust Monocular Depth Estimation: Mixing Datasets for Zero-shot Cross-dataset Transfer},\n",
    "\tjournal   = {IEEE Transactions on Pattern Analysis and Machine Intelligence (TPAMI)},\n",
    "\tyear      = {2020},\n",
    "}"
   ]
  },
  {
   "cell_type": "code",
   "execution_count": null,
   "id": "e5d73c02",
   "metadata": {
    "attributes": {
     "classes": [
      "bibtex"
     ],
     "id": ""
    }
   },
   "outputs": [],
   "source": [
    "@article{Ranftl2021,\n",
    "\tauthor    = {Ren\\'{e} Ranftl and Alexey Bochkovskiy and Vladlen Koltun},\n",
    "\ttitle     = {Vision Transformers for Dense Prediction},\n",
    "\tjournal   = {ArXiv preprint},\n",
    "\tyear      = {2021},\n",
    "}"
   ]
  }
 ],
 "metadata": {},
 "nbformat": 4,
 "nbformat_minor": 5
}
